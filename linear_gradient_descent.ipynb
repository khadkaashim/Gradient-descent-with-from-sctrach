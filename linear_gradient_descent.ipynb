{
  "nbformat": 4,
  "nbformat_minor": 0,
  "metadata": {
    "colab": {
      "name": "linear_gradient_descent.ipynb",
      "provenance": []
    },
    "kernelspec": {
      "name": "python3",
      "display_name": "Python 3"
    },
    "language_info": {
      "name": "python"
    }
  },
  "cells": [
    {
      "cell_type": "code",
      "execution_count": null,
      "metadata": {
        "colab": {
          "base_uri": "https://localhost:8080/",
          "height": 223
        },
        "id": "CgGsWJIo_QMB",
        "outputId": "b5d38203-0871-4802-9797-174502bd2a60"
      },
      "outputs": [
        {
          "output_type": "stream",
          "name": "stdout",
          "text": [
            "Mounted at /content/drive\n"
          ]
        },
        {
          "output_type": "execute_result",
          "data": {
            "text/plain": [
              "   Hours  Scores\n",
              "0    2.5      21\n",
              "1    5.1      47\n",
              "2    3.2      27\n",
              "3    8.5      75\n",
              "4    3.5      30"
            ],
            "text/html": [
              "\n",
              "  <div id=\"df-a8189d79-9a71-4d13-bd1e-2c6ddc5a522a\">\n",
              "    <div class=\"colab-df-container\">\n",
              "      <div>\n",
              "<style scoped>\n",
              "    .dataframe tbody tr th:only-of-type {\n",
              "        vertical-align: middle;\n",
              "    }\n",
              "\n",
              "    .dataframe tbody tr th {\n",
              "        vertical-align: top;\n",
              "    }\n",
              "\n",
              "    .dataframe thead th {\n",
              "        text-align: right;\n",
              "    }\n",
              "</style>\n",
              "<table border=\"1\" class=\"dataframe\">\n",
              "  <thead>\n",
              "    <tr style=\"text-align: right;\">\n",
              "      <th></th>\n",
              "      <th>Hours</th>\n",
              "      <th>Scores</th>\n",
              "    </tr>\n",
              "  </thead>\n",
              "  <tbody>\n",
              "    <tr>\n",
              "      <th>0</th>\n",
              "      <td>2.5</td>\n",
              "      <td>21</td>\n",
              "    </tr>\n",
              "    <tr>\n",
              "      <th>1</th>\n",
              "      <td>5.1</td>\n",
              "      <td>47</td>\n",
              "    </tr>\n",
              "    <tr>\n",
              "      <th>2</th>\n",
              "      <td>3.2</td>\n",
              "      <td>27</td>\n",
              "    </tr>\n",
              "    <tr>\n",
              "      <th>3</th>\n",
              "      <td>8.5</td>\n",
              "      <td>75</td>\n",
              "    </tr>\n",
              "    <tr>\n",
              "      <th>4</th>\n",
              "      <td>3.5</td>\n",
              "      <td>30</td>\n",
              "    </tr>\n",
              "  </tbody>\n",
              "</table>\n",
              "</div>\n",
              "      <button class=\"colab-df-convert\" onclick=\"convertToInteractive('df-a8189d79-9a71-4d13-bd1e-2c6ddc5a522a')\"\n",
              "              title=\"Convert this dataframe to an interactive table.\"\n",
              "              style=\"display:none;\">\n",
              "        \n",
              "  <svg xmlns=\"http://www.w3.org/2000/svg\" height=\"24px\"viewBox=\"0 0 24 24\"\n",
              "       width=\"24px\">\n",
              "    <path d=\"M0 0h24v24H0V0z\" fill=\"none\"/>\n",
              "    <path d=\"M18.56 5.44l.94 2.06.94-2.06 2.06-.94-2.06-.94-.94-2.06-.94 2.06-2.06.94zm-11 1L8.5 8.5l.94-2.06 2.06-.94-2.06-.94L8.5 2.5l-.94 2.06-2.06.94zm10 10l.94 2.06.94-2.06 2.06-.94-2.06-.94-.94-2.06-.94 2.06-2.06.94z\"/><path d=\"M17.41 7.96l-1.37-1.37c-.4-.4-.92-.59-1.43-.59-.52 0-1.04.2-1.43.59L10.3 9.45l-7.72 7.72c-.78.78-.78 2.05 0 2.83L4 21.41c.39.39.9.59 1.41.59.51 0 1.02-.2 1.41-.59l7.78-7.78 2.81-2.81c.8-.78.8-2.07 0-2.86zM5.41 20L4 18.59l7.72-7.72 1.47 1.35L5.41 20z\"/>\n",
              "  </svg>\n",
              "      </button>\n",
              "      \n",
              "  <style>\n",
              "    .colab-df-container {\n",
              "      display:flex;\n",
              "      flex-wrap:wrap;\n",
              "      gap: 12px;\n",
              "    }\n",
              "\n",
              "    .colab-df-convert {\n",
              "      background-color: #E8F0FE;\n",
              "      border: none;\n",
              "      border-radius: 50%;\n",
              "      cursor: pointer;\n",
              "      display: none;\n",
              "      fill: #1967D2;\n",
              "      height: 32px;\n",
              "      padding: 0 0 0 0;\n",
              "      width: 32px;\n",
              "    }\n",
              "\n",
              "    .colab-df-convert:hover {\n",
              "      background-color: #E2EBFA;\n",
              "      box-shadow: 0px 1px 2px rgba(60, 64, 67, 0.3), 0px 1px 3px 1px rgba(60, 64, 67, 0.15);\n",
              "      fill: #174EA6;\n",
              "    }\n",
              "\n",
              "    [theme=dark] .colab-df-convert {\n",
              "      background-color: #3B4455;\n",
              "      fill: #D2E3FC;\n",
              "    }\n",
              "\n",
              "    [theme=dark] .colab-df-convert:hover {\n",
              "      background-color: #434B5C;\n",
              "      box-shadow: 0px 1px 3px 1px rgba(0, 0, 0, 0.15);\n",
              "      filter: drop-shadow(0px 1px 2px rgba(0, 0, 0, 0.3));\n",
              "      fill: #FFFFFF;\n",
              "    }\n",
              "  </style>\n",
              "\n",
              "      <script>\n",
              "        const buttonEl =\n",
              "          document.querySelector('#df-a8189d79-9a71-4d13-bd1e-2c6ddc5a522a button.colab-df-convert');\n",
              "        buttonEl.style.display =\n",
              "          google.colab.kernel.accessAllowed ? 'block' : 'none';\n",
              "\n",
              "        async function convertToInteractive(key) {\n",
              "          const element = document.querySelector('#df-a8189d79-9a71-4d13-bd1e-2c6ddc5a522a');\n",
              "          const dataTable =\n",
              "            await google.colab.kernel.invokeFunction('convertToInteractive',\n",
              "                                                     [key], {});\n",
              "          if (!dataTable) return;\n",
              "\n",
              "          const docLinkHtml = 'Like what you see? Visit the ' +\n",
              "            '<a target=\"_blank\" href=https://colab.research.google.com/notebooks/data_table.ipynb>data table notebook</a>'\n",
              "            + ' to learn more about interactive tables.';\n",
              "          element.innerHTML = '';\n",
              "          dataTable['output_type'] = 'display_data';\n",
              "          await google.colab.output.renderOutput(dataTable, element);\n",
              "          const docLink = document.createElement('div');\n",
              "          docLink.innerHTML = docLinkHtml;\n",
              "          element.appendChild(docLink);\n",
              "        }\n",
              "      </script>\n",
              "    </div>\n",
              "  </div>\n",
              "  "
            ]
          },
          "metadata": {},
          "execution_count": 1
        }
      ],
      "source": [
        "from google.colab import drive\n",
        "drive.mount('/content/drive')\n",
        "import pandas as pd\n",
        "\n",
        "path='/content/drive/MyDrive/MLDatasetcollection/student_scores.csv'\n",
        "data=pd.read_csv(path)\n",
        "data.head() \n"
      ]
    },
    {
      "cell_type": "markdown",
      "source": [
        "\n",
        "$Y_{pred} = \\mathbf{W}^T \\mathbf{X}+ b$\n",
        "# Gradient descent\n",
        "Cost function \n",
        "\\begin{align*}\n",
        "\\underset{W}{min} J(W) &= \\frac{1}{2m}\\sum_{i=1}^m (y^i_{pred}-y^i)^2\n",
        "\\end{align*}\n",
        "\\begin{align*}\n",
        "\\frac{\\partial }{\\partial W_i} J(W) &= \\frac{1}{m}\\sum_{i=1}^m (y^i_{pred}-y^i)X^i\n",
        "\\end{align*}\n",
        "# Learning Rate\n",
        "\\begin{align*}\n",
        "W&:= W + \\frac{\\alpha}{m}\\sum_{i=1}^{m}\\left(y^i - y_{pred}^i\\right)X^i\\\\\n",
        "b&:= W + \\frac{\\alpha}{m}\\sum_{i=1}^{m}\\left(y^i - y_{pred}^i\\right)\n",
        "\\end{align*}"
      ],
      "metadata": {
        "id": "2raWM2rowWja"
      }
    },
    {
      "cell_type": "code",
      "source": [
        "def gradient_descent( X,y, learn_rate, n_iter, tolerance):\n",
        "  W = b = 0 # Can be any random values\n",
        "  m = len(X)\n",
        "  cost = np.zeros(n_iter)\n",
        "  for i in range(n_iter):\n",
        "    y_pred = W * X + b * 1\n",
        "    \n",
        "    W_dev = -(1/m) *sum((y-y_pred)*X)\n",
        "    b_dev = -(1/m) *sum((y-y_pred)*1)\n",
        "    W = W - (learn_rate * W_dev)\n",
        "    b = b - (learn_rate * b_dev)\n",
        "    cost= (1/(2*m))*sum (pow((y_pred - y),2))\n",
        "    #print(\"Cost function:%e\\n\"%cost)\n",
        "    if (cost<= tolerance):\n",
        "      break\n",
        "  return[W,b]"
      ],
      "metadata": {
        "id": "uO4DE47gAuvW"
      },
      "execution_count": null,
      "outputs": []
    },
    {
      "cell_type": "code",
      "source": [
        "n_iter = 1000\n",
        "learn_rate = 0.0001\n",
        "tolerance=1e-06\n",
        "import numpy as np\n",
        "X = np.array(data[\"Hours\"])\n",
        "y = np.array(data[\"Scores\"])\n",
        "from sklearn.model_selection import train_test_split\n",
        "X_train, X_test, y_train, y_test = train_test_split(X, y, test_size=0.2,random_state=0)\n",
        "W,b = gradient_descent( X_train,y_train, learn_rate, n_iter, tolerance)"
      ],
      "metadata": {
        "id": "LiLKKUUVeun4"
      },
      "execution_count": null,
      "outputs": []
    },
    {
      "cell_type": "code",
      "source": [
        "a = W*3+b\n",
        "a"
      ],
      "metadata": {
        "colab": {
          "base_uri": "https://localhost:8080/"
        },
        "id": "s2Jum5NfxTAa",
        "outputId": "70cf6263-be82-43f2-a794-5a77e1113130"
      },
      "execution_count": null,
      "outputs": [
        {
          "output_type": "execute_result",
          "data": {
            "text/plain": [
              "30.514654844293172"
            ]
          },
          "metadata": {},
          "execution_count": 31
        }
      ]
    },
    {
      "cell_type": "markdown",
      "source": [
        "# Performance parameters\n",
        "\\begin{align*}\n",
        "MSE &= \\frac{1}{m}\\sum_{i}^{m}\\left(y_{pred}-y_{test}\\right)^2\\\\\n",
        " R^2 &= 1-\\frac{\\sum_{i}^{m}\\left(y_{pred}-y_{test}\\right)^2}{\\sum_{i}^{m}\\left(y_{test}-y_{mean}\\right)^2}\n",
        "\\end{align*}\n"
      ],
      "metadata": {
        "id": "a3f0NEZryLen"
      }
    },
    {
      "cell_type": "markdown",
      "source": [
        ""
      ],
      "metadata": {
        "id": "DDbWkDrVew4J"
      }
    },
    {
      "cell_type": "code",
      "source": [
        "y_predict = W * X_test +b\n",
        "MSE = (1/(len(y_test)))*sum (pow((y_predict - y_test),2))\n",
        "print(\"MSE:%f\"%MSE)\n",
        "from sklearn.metrics import mean_squared_error\n",
        "#squared =boolean If True returns MSE value, if False returns RMSE value.\n",
        "mean_squared_error (y_test, y_predict, squared=True)"
      ],
      "metadata": {
        "colab": {
          "base_uri": "https://localhost:8080/"
        },
        "id": "dwsa-iTXsNu5",
        "outputId": "052e493d-48c5-4631-bfaf-30c37b91f23a"
      },
      "execution_count": null,
      "outputs": [
        {
          "output_type": "stream",
          "name": "stdout",
          "text": [
            "MSE:18.487014\n"
          ]
        },
        {
          "output_type": "execute_result",
          "data": {
            "text/plain": [
              "18.487013804352166"
            ]
          },
          "metadata": {},
          "execution_count": 24
        }
      ]
    },
    {
      "cell_type": "code",
      "source": [
        "y_mean = sum(y_test)/len(y_test)\n",
        "sum_resuidal = sum(pow((y_predict-y_test),2))\n",
        "sum_total = sum(pow((y_test-y_mean),2))\n",
        "R2 = 1-(sum_resuidal/sum_total)"
      ],
      "metadata": {
        "id": "FGxmxuUBuYav"
      },
      "execution_count": null,
      "outputs": []
    },
    {
      "cell_type": "code",
      "source": [
        "R2"
      ],
      "metadata": {
        "colab": {
          "base_uri": "https://localhost:8080/"
        },
        "id": "UMtgHodiublF",
        "outputId": "e861326f-0562-4ad9-e0bb-7e0f4d29d0b5"
      },
      "execution_count": null,
      "outputs": [
        {
          "output_type": "execute_result",
          "data": {
            "text/plain": [
              "0.9533438981315562"
            ]
          },
          "metadata": {},
          "execution_count": 26
        }
      ]
    },
    {
      "cell_type": "code",
      "source": [
        "import matplotlib.pyplot as plt\n",
        "plt.scatter(X_train, y_train, c =\"blue\")\n",
        "plt.scatter(X_test, y_test, c =\"red\")\n",
        "plt.scatter(X_test, y_predict, c =\"black\",marker='+')\n",
        "plt.plot(X_test, y_predict, c =\"blue\")\n",
        "plt.xlabel(\"Hours\")\n",
        "plt.ylabel(\"Scores\")\n",
        "plt.show()"
      ],
      "metadata": {
        "colab": {
          "base_uri": "https://localhost:8080/",
          "height": 279
        },
        "id": "bVcmYOVr0jTY",
        "outputId": "baf095d1-ea95-412f-d991-f8b2d293f946"
      },
      "execution_count": null,
      "outputs": [
        {
          "output_type": "display_data",
          "data": {
            "text/plain": [
              "<Figure size 432x288 with 1 Axes>"
            ],
            "image/png": "[encoded data removed]"
          },
          "metadata": {
            "needs_background": "light"
          }
        }
      ]
    }
  ]
}